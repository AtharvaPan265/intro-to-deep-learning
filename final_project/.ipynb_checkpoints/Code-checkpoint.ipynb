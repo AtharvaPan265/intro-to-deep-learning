{
 "cells": [
  {
   "cell_type": "markdown",
   "id": "5449d191",
   "metadata": {},
   "source": [
    "# Imports"
   ]
  },
  {
   "cell_type": "code",
   "execution_count": 1,
   "id": "d958ffb2",
   "metadata": {},
   "outputs": [
    {
     "name": "stdout",
     "output_type": "stream",
     "text": [
      "Using device: cuda\n"
     ]
    }
   ],
   "source": [
    "import os\n",
    "import numpy as np\n",
    "import pandas as pd\n",
    "import matplotlib.pyplot as plt\n",
    "from sklearn.model_selection import train_test_split\n",
    "from sklearn.preprocessing import MinMaxScaler\n",
    "import torch\n",
    "import torch.nn as nn\n",
    "from torch.utils.data import DataLoader, TensorDataset, Dataset\n",
    "\n",
    "# Device setup\n",
    "device = torch.device(\"cuda\" if torch.cuda.is_available() else \"cpu\")\n",
    "print(f\"Using device: {device}\")"
   ]
  },
  {
   "cell_type": "markdown",
   "id": "bdd00832",
   "metadata": {},
   "source": [
    "# Loading the Dataset"
   ]
  },
  {
   "cell_type": "code",
   "execution_count": 2,
   "id": "572c31ae",
   "metadata": {},
   "outputs": [
    {
     "name": "stdout",
     "output_type": "stream",
     "text": [
      "Loaded 9400 files for training\n",
      "Input shape: torch.Size([9400, 62, 12])\n",
      "Target shape: torch.Size([9400, 5, 12])\n",
      "Training set: torch.Size([6583, 62, 12]), torch.Size([6583, 5, 12])\n",
      "Validation set: torch.Size([1407, 62, 12]), torch.Size([1407, 5, 12])\n",
      "Test set: torch.Size([1410, 62, 12]), torch.Size([1410, 5, 12])\n"
     ]
    }
   ],
   "source": [
    "data_directory = \"data/Car_data/car_data\" \n",
    "\n",
    "X_data = []  \n",
    "y_data = []  \n",
    "\n",
    "for filename in os.listdir(data_directory):\n",
    "    if filename.endswith('.csv'):\n",
    "        file_path = os.path.join(data_directory, filename)\n",
    "        \n",
    "        df = pd.read_csv(file_path)\n",
    "        \n",
    "        file_data = df.values\n",
    "        \n",
    "        if len(file_data) >= 67: \n",
    "            X_data.append(file_data[:62])\n",
    "            y_data.append(file_data[62:67])  \n",
    "        else:\n",
    "            print(f\"Warning: File {filename} has fewer than 67 rows and will be skipped.\")\n",
    "\n",
    "X_tensor = torch.FloatTensor(np.array(X_data))  \n",
    "y_tensor = torch.FloatTensor(np.array(y_data))  \n",
    "\n",
    "dataset = TensorDataset(X_tensor, y_tensor)\n",
    "dataloader = DataLoader(dataset, batch_size=128, shuffle=False)\n",
    "\n",
    "print(f\"Loaded {len(X_data)} files for training\")\n",
    "print(f\"Input shape: {X_tensor.shape}\")\n",
    "print(f\"Target shape: {y_tensor.shape}\")\n",
    "from sklearn.model_selection import train_test_split\n",
    "\n",
    "from sklearn.model_selection import train_test_split\n",
    "\n",
    "# First split data into temp (train+validation) and test\n",
    "X_temp, X_test, y_temp, y_test = train_test_split(X_tensor.numpy(), y_tensor.numpy(), \n",
    "                                                  test_size=0.15, random_state=42)\n",
    "\n",
    "# Then split the temp data into train and validation\n",
    "# 0.176 of 85% is ~15% of the original dataset\n",
    "X_train, X_val, y_train, y_val = train_test_split(X_temp, y_temp, \n",
    "                                                  test_size=0.176, random_state=42)  \n",
    "\n",
    "# Convert back to tensors\n",
    "X_train_tensor = torch.FloatTensor(X_train)\n",
    "y_train_tensor = torch.FloatTensor(y_train)\n",
    "X_val_tensor = torch.FloatTensor(X_val)\n",
    "y_val_tensor = torch.FloatTensor(y_val)\n",
    "X_test_tensor = torch.FloatTensor(X_test)\n",
    "y_test_tensor = torch.FloatTensor(y_test)\n",
    "\n",
    "# Create datasets\n",
    "train_dataset = TensorDataset(X_train_tensor, y_train_tensor)\n",
    "val_dataset = TensorDataset(X_val_tensor, y_val_tensor)\n",
    "test_dataset = TensorDataset(X_test_tensor, y_test_tensor)\n",
    "\n",
    "# Create dataloaders\n",
    "batch_size = 128\n",
    "train_dataloader = DataLoader(train_dataset, batch_size=batch_size, shuffle=False)\n",
    "val_dataloader = DataLoader(val_dataset, batch_size=batch_size, shuffle=False)\n",
    "test_dataloader = DataLoader(test_dataset, batch_size=batch_size, shuffle=False)\n",
    "\n",
    "print(f\"Training set: {X_train_tensor.shape}, {y_train_tensor.shape}\")\n",
    "print(f\"Validation set: {X_val_tensor.shape}, {y_val_tensor.shape}\")\n",
    "print(f\"Test set: {X_test_tensor.shape}, {y_test_tensor.shape}\")"
   ]
  },
  {
   "cell_type": "code",
   "execution_count": 3,
   "id": "6a3922c9",
   "metadata": {},
   "outputs": [],
   "source": [
    "class LSTM_custom(nn.Module):\n",
    "    def __init__(\n",
    "        self,\n",
    "        input_size=12,\n",
    "        hidden_size=64,\n",
    "        dropout=0.2,\n",
    "    ):\n",
    "        super(LSTM_custom, self).__init__()\n",
    "        self.input_size = input_size\n",
    "        self.hidden_size = hidden_size\n",
    "        self.dropout_rate = dropout\n",
    "        self.projection_layer = nn.Linear(self.hidden_size, input_size)\n",
    "        self.dropout = nn.Dropout(dropout)  # Add dropout layer\n",
    "\n",
    "        # Input gate\n",
    "        self.W_xi = nn.Parameter(torch.nn.init.xavier_uniform_(torch.empty(input_size, hidden_size)))\n",
    "        self.b_xi = nn.Parameter(torch.zeros(hidden_size))\n",
    "        self.W_hi = nn.Parameter(torch.nn.init.xavier_uniform_(torch.empty(hidden_size, hidden_size)))\n",
    "        self.b_hi = nn.Parameter(torch.zeros(hidden_size))\n",
    "\n",
    "        # Forget gate\n",
    "        self.W_xf = nn.Parameter(torch.nn.init.xavier_uniform_(torch.empty(input_size, hidden_size)))\n",
    "        self.b_xf = nn.Parameter(torch.zeros(hidden_size))\n",
    "        self.W_hf = nn.Parameter(torch.nn.init.xavier_uniform_(torch.empty(hidden_size, hidden_size)))\n",
    "        self.b_hf = nn.Parameter(torch.zeros(hidden_size))\n",
    "\n",
    "        # Cell gate\n",
    "        self.W_xg = nn.Parameter(torch.nn.init.xavier_uniform_(torch.empty(input_size, hidden_size)))\n",
    "        self.b_xg = nn.Parameter(torch.zeros(hidden_size))\n",
    "        self.W_hg = nn.Parameter(torch.nn.init.xavier_uniform_(torch.empty(hidden_size, hidden_size)))\n",
    "        self.b_hg = nn.Parameter(torch.zeros(hidden_size))\n",
    "\n",
    "        # Output gate\n",
    "        self.W_xo = nn.Parameter(torch.nn.init.xavier_uniform_(torch.empty(input_size, hidden_size)))\n",
    "        self.b_xo = nn.Parameter(torch.zeros(hidden_size))\n",
    "        self.W_ho = nn.Parameter(torch.nn.init.xavier_uniform_(torch.empty(hidden_size, hidden_size)))\n",
    "        self.b_ho = nn.Parameter(torch.zeros(hidden_size))\n",
    "\n",
    "    def input_gate(self, x_t, h_prev):\n",
    "        return torch.sigmoid(\n",
    "            torch.matmul(x_t, self.W_xi) + self.b_xi + torch.matmul(h_prev, self.W_hi) + self.b_hi\n",
    "        )\n",
    "\n",
    "    def forget_gate(self, x_t, h_prev):\n",
    "        return torch.sigmoid(\n",
    "            torch.matmul(x_t, self.W_xf) + self.b_xf + torch.matmul(h_prev, self.W_hf) + self.b_hf\n",
    "        )\n",
    "\n",
    "    def cell_gate(self, x_t, h_prev):\n",
    "        return torch.tanh(\n",
    "            torch.matmul(x_t, self.W_xg) + self.b_xg + torch.matmul(h_prev, self.W_hg) + self.b_hg\n",
    "        )\n",
    "\n",
    "    def output_gate(self, x_t, h_prev):\n",
    "        return torch.sigmoid(\n",
    "            torch.matmul(x_t, self.W_xo) + self.b_xo + torch.matmul(h_prev, self.W_ho) + self.b_ho\n",
    "        )\n",
    "\n",
    "    def lstm_cell(self, x_t, h_prev, c_prev):\n",
    "        i_t = self.input_gate(x_t, h_prev)\n",
    "        f_t = self.forget_gate(x_t, h_prev)\n",
    "        g_t = self.cell_gate(x_t, h_prev)\n",
    "        o_t = self.output_gate(x_t, h_prev)\n",
    "\n",
    "        c_t = f_t * c_prev + i_t * g_t\n",
    "        h_t = o_t * torch.tanh(c_t)\n",
    "        h_t = self.dropout(h_t)\n",
    "        return h_t, c_t\n",
    "\n",
    "    def forward(self, x):\n",
    "        batch_size, seq_len, feature_dim = x.size()\n",
    "        h_t = torch.zeros(batch_size, self.hidden_size, device=x.device)\n",
    "        c_t = torch.zeros(batch_size, self.hidden_size, device=x.device)\n",
    "\n",
    "        for t in range(seq_len):\n",
    "            h_t, c_t = self.lstm_cell(x[:, t, :], h_t, c_t)\n",
    "\n",
    "        predictions = []\n",
    "        current_x = x[:, -1, :]  \n",
    "        for i in range(5):\n",
    "            h_t, c_t = self.lstm_cell(current_x, h_t, c_t)\n",
    "            output = self.projection_layer(h_t)\n",
    "            predictions.append(output)\n",
    "            current_x = output  \n",
    "        return torch.stack(predictions, dim=1)\n"
   ]
  },
  {
   "cell_type": "code",
   "execution_count": 4,
   "id": "2785745a",
   "metadata": {},
   "outputs": [],
   "source": [
    "def RMSELoss(y_pred, y_true):\n",
    "    return torch.sqrt(nn.MSELoss()(y_pred, y_true) + 1e-8)"
   ]
  },
  {
   "cell_type": "code",
   "execution_count": null,
   "id": "50ce829b",
   "metadata": {},
   "outputs": [],
   "source": [
    "def  train_model(name, input_size=12, hidden_size=64, dropout=0.2, lr= 0.01, num_epochs=100):\n",
    "    model = LSTM_custom(input_size=input_size, hidden_size=hidden_size, dropout=dropout).to(device)\n",
    "    criterion = RMSELoss\n",
    "    optimizer = torch.optim.Adam(model.parameters(), lr=lr)\n",
    "    lr_scheduler = torch.optim.lr_scheduler.CosineAnnealingLR(optimizer, T_max=num_epochs)\n",
    "\n",
    "    train_losses = []\n",
    "    val_losses = []\n",
    "    learning_rates = []\n",
    "\n",
    "    for epoch in range(num_epochs):\n",
    "        model.train()\n",
    "        train_loss = 0\n",
    "        \n",
    "        for inputs, targets in train_dataloader:\n",
    "            inputs = inputs.to(device)\n",
    "            targets = targets.to(device)\n",
    "            outputs = model(inputs)\n",
    "            loss = criterion(outputs, targets)\n",
    "               \n",
    "            optimizer.zero_grad()\n",
    "            loss.backward()\n",
    "            optimizer.step()\n",
    "            train_loss += loss.item()\n",
    "        \n",
    "        avg_train_loss = train_loss / len(train_dataloader)\n",
    "        \n",
    "        if (epoch + 1) % 10 == 0:\n",
    "            model.eval()\n",
    "            val_loss = 0\n",
    "            with torch.no_grad():\n",
    "                for inputs, targets in val_dataloader:\n",
    "                    inputs = inputs.to(device)\n",
    "                    targets = targets.to(device)\n",
    "                    \n",
    "                    outputs = model(inputs)\n",
    "                    loss = criterion(outputs, targets)\n",
    "                    \n",
    "                    val_loss += loss.item()\n",
    "            avg_val_loss = val_loss / len(val_dataloader)\n",
    "        else:\n",
    "            avg_val_loss = None\n",
    "        \n",
    "        lr_scheduler.step()\n",
    "        \n",
    "        train_losses.append(avg_train_loss)\n",
    "        val_losses.append(avg_val_loss)\n",
    "        learning_rates.append(optimizer.param_groups[0]['lr'])\n",
    "        \n",
    "        if (epoch + 1) % 10 == 0:\n",
    "            print(f\"Epoch [{epoch + 1}/{num_epochs}], \"\n",
    "                f\"Train Loss: {avg_train_loss:.4f}, \"\n",
    "                f\"Val Loss: {avg_val_loss:.4f}, \"\n",
    "                f\"LR: {optimizer.param_groups[0]['lr']:.6f}\")\n",
    "\n",
    "\n",
    "    plt.figure(figsize=(12, 4))\n",
    "    plt.subplot(1, 2, 1)\n",
    "    plt.plot(train_losses, 'b-', label='Training Loss')\n",
    "    val_epochs = [i for i, v in enumerate(val_losses) if v is not None]\n",
    "    val_losses_filtered = [v for v in val_losses if v is not None]\n",
    "    plt.plot(val_epochs, val_losses_filtered, 'r-', label='Validation Loss')\n",
    "    plt.title(f'Training and Validation Loss for {name}')\n",
    "    plt.xlabel('Epochs')\n",
    "    plt.ylabel('Loss')\n",
    "    plt.legend()\n",
    "    plt.grid(True)\n",
    "\n",
    "    return model"
   ]
  },
  {
   "cell_type": "code",
   "execution_count": 6,
   "id": "443c067e",
   "metadata": {},
   "outputs": [],
   "source": [
    "test_results = {}\n",
    "def test_model(name, model, test_dataloader):\n",
    "    criterion = RMSELoss\n",
    "    \n",
    "    model.eval()\n",
    "    with torch.no_grad():\n",
    "        test_loss = 0\n",
    "        for inputs, targets in test_dataloader:\n",
    "            inputs = inputs.to(device)\n",
    "            targets = targets.to(device)\n",
    "            outputs = model(inputs)\n",
    "            test_loss += criterion(outputs, targets).item()\n",
    "        \n",
    "        avg_test_loss = test_loss / len(test_dataloader)\n",
    "        print(f\"Test Loss for {name}: {avg_test_loss:.4f}\")\n",
    "    return avg_test_loss"
   ]
  },
  {
   "cell_type": "code",
   "execution_count": 7,
   "id": "9fbbab72",
   "metadata": {},
   "outputs": [],
   "source": [
    "def train_and_test_model(name, input_size=12, hidden_size=64, dropout=0.2, lr= 0.01, num_epochs=100):\n",
    "    model = train_model(name, input_size=input_size, hidden_size=hidden_size, dropout=dropout, lr=lr, num_epochs=num_epochs)\n",
    "    return test_model(name, model, test_dataloader)"
   ]
  },
  {
   "cell_type": "markdown",
   "id": "a30135c8",
   "metadata": {},
   "source": [
    "# Tests"
   ]
  },
  {
   "cell_type": "code",
   "execution_count": 8,
   "id": "cd9013af",
   "metadata": {},
   "outputs": [
    {
     "name": "stdout",
     "output_type": "stream",
     "text": [
      "Epoch [10/100], Train Loss: 119.9165, Val Loss: 120.2651, LR: 0.009755\n",
      "Epoch [20/100], Train Loss: 118.3098, Val Loss: 118.6043, LR: 0.009045\n",
      "Epoch [30/100], Train Loss: 116.8165, Val Loss: 117.1152, LR: 0.007939\n",
      "Epoch [40/100], Train Loss: 115.3774, Val Loss: 115.8155, LR: 0.006545\n",
      "Epoch [50/100], Train Loss: 114.3785, Val Loss: 114.7260, LR: 0.005000\n",
      "Epoch [60/100], Train Loss: 113.6159, Val Loss: 113.9265, LR: 0.003455\n",
      "Epoch [70/100], Train Loss: 112.9795, Val Loss: 113.3855, LR: 0.002061\n",
      "Epoch [80/100], Train Loss: 112.7756, Val Loss: 113.1046, LR: 0.000955\n",
      "Epoch [90/100], Train Loss: 112.6331, Val Loss: 112.9815, LR: 0.000245\n",
      "Epoch [100/100], Train Loss: 112.5839, Val Loss: 112.9624, LR: 0.000000\n"
     ]
    },
    {
     "ename": "NameError",
     "evalue": "name 'nam67e' is not defined",
     "output_type": "error",
     "traceback": [
      "\u001b[31m---------------------------------------------------------------------------\u001b[39m",
      "\u001b[31mNameError\u001b[39m                                 Traceback (most recent call last)",
      "\u001b[36mCell\u001b[39m\u001b[36m \u001b[39m\u001b[32mIn[8]\u001b[39m\u001b[32m, line 1\u001b[39m\n\u001b[32m----> \u001b[39m\u001b[32m1\u001b[39m test_results[\u001b[33m\"\u001b[39m\u001b[33m512 | 0.2 | 0.01 | 100\u001b[39m\u001b[33m\"\u001b[39m] =  \u001b[43mtrain_and_test_model\u001b[49m\u001b[43m(\u001b[49m\u001b[33;43m\"\u001b[39;49m\u001b[33;43m512 | 0.2 | 0.01 | 100\u001b[39;49m\u001b[33;43m\"\u001b[39;49m\u001b[43m,\u001b[49m\u001b[43m \u001b[49m\u001b[43minput_size\u001b[49m\u001b[43m=\u001b[49m\u001b[32;43m12\u001b[39;49m\u001b[43m,\u001b[49m\u001b[43m \u001b[49m\u001b[43mhidden_size\u001b[49m\u001b[43m=\u001b[49m\u001b[32;43m512\u001b[39;49m\u001b[43m,\u001b[49m\u001b[43m \u001b[49m\u001b[43mdropout\u001b[49m\u001b[43m=\u001b[49m\u001b[32;43m0.2\u001b[39;49m\u001b[43m,\u001b[49m\u001b[43m \u001b[49m\u001b[43mlr\u001b[49m\u001b[43m=\u001b[49m\u001b[32;43m0.01\u001b[39;49m\u001b[43m,\u001b[49m\u001b[43m \u001b[49m\u001b[43mnum_epochs\u001b[49m\u001b[43m=\u001b[49m\u001b[32;43m100\u001b[39;49m\u001b[43m)\u001b[49m\n",
      "\u001b[36mCell\u001b[39m\u001b[36m \u001b[39m\u001b[32mIn[7]\u001b[39m\u001b[32m, line 2\u001b[39m, in \u001b[36mtrain_and_test_model\u001b[39m\u001b[34m(name, input_size, hidden_size, dropout, lr, num_epochs)\u001b[39m\n\u001b[32m      1\u001b[39m \u001b[38;5;28;01mdef\u001b[39;00m\u001b[38;5;250m \u001b[39m\u001b[34mtrain_and_test_model\u001b[39m(name, input_size=\u001b[32m12\u001b[39m, hidden_size=\u001b[32m64\u001b[39m, dropout=\u001b[32m0.2\u001b[39m, lr= \u001b[32m0.01\u001b[39m, num_epochs=\u001b[32m100\u001b[39m):\n\u001b[32m----> \u001b[39m\u001b[32m2\u001b[39m     model = \u001b[43mtrain_model\u001b[49m\u001b[43m(\u001b[49m\u001b[43mname\u001b[49m\u001b[43m,\u001b[49m\u001b[43m \u001b[49m\u001b[43minput_size\u001b[49m\u001b[43m=\u001b[49m\u001b[43minput_size\u001b[49m\u001b[43m,\u001b[49m\u001b[43m \u001b[49m\u001b[43mhidden_size\u001b[49m\u001b[43m=\u001b[49m\u001b[43mhidden_size\u001b[49m\u001b[43m,\u001b[49m\u001b[43m \u001b[49m\u001b[43mdropout\u001b[49m\u001b[43m=\u001b[49m\u001b[43mdropout\u001b[49m\u001b[43m,\u001b[49m\u001b[43m \u001b[49m\u001b[43mlr\u001b[49m\u001b[43m=\u001b[49m\u001b[43mlr\u001b[49m\u001b[43m,\u001b[49m\u001b[43m \u001b[49m\u001b[43mnum_epochs\u001b[49m\u001b[43m=\u001b[49m\u001b[43mnum_epochs\u001b[49m\u001b[43m)\u001b[49m\n\u001b[32m      3\u001b[39m     \u001b[38;5;28;01mreturn\u001b[39;00m test_model(name, model, test_dataloader)\n",
      "\u001b[36mCell\u001b[39m\u001b[36m \u001b[39m\u001b[32mIn[5]\u001b[39m\u001b[32m, line 63\u001b[39m, in \u001b[36mtrain_model\u001b[39m\u001b[34m(name, input_size, hidden_size, dropout, lr, num_epochs)\u001b[39m\n\u001b[32m     61\u001b[39m val_losses_filtered = [v \u001b[38;5;28;01mfor\u001b[39;00m v \u001b[38;5;129;01min\u001b[39;00m val_losses \u001b[38;5;28;01mif\u001b[39;00m v \u001b[38;5;129;01mis\u001b[39;00m \u001b[38;5;129;01mnot\u001b[39;00m \u001b[38;5;28;01mNone\u001b[39;00m]\n\u001b[32m     62\u001b[39m plt.plot(val_epochs, val_losses_filtered, \u001b[33m'\u001b[39m\u001b[33mr-\u001b[39m\u001b[33m'\u001b[39m, label=\u001b[33m'\u001b[39m\u001b[33mValidation Loss\u001b[39m\u001b[33m'\u001b[39m)\n\u001b[32m---> \u001b[39m\u001b[32m63\u001b[39m plt.title(\u001b[33mf\u001b[39m\u001b[33m'\u001b[39m\u001b[33mTraining and Validation Loss for \u001b[39m\u001b[38;5;132;01m{\u001b[39;00m\u001b[43mnam67e\u001b[49m\u001b[38;5;132;01m}\u001b[39;00m\u001b[33m'\u001b[39m)\n\u001b[32m     64\u001b[39m plt.xlabel(\u001b[33m'\u001b[39m\u001b[33mEpochs\u001b[39m\u001b[33m'\u001b[39m)\n\u001b[32m     65\u001b[39m plt.ylabel(\u001b[33m'\u001b[39m\u001b[33mLoss\u001b[39m\u001b[33m'\u001b[39m)\n",
      "\u001b[31mNameError\u001b[39m: name 'nam67e' is not defined"
     ]
    },
    {
     "data": {
      "image/png": "[encoded data removed]",
      "text/plain": [
       "<Figure size 1200x400 with 1 Axes>"
      ]
     },
     "metadata": {},
     "output_type": "display_data"
    }
   ],
   "source": [
    "test_results[\"512 | 0.2 | 0.01 | 100\"] =  train_and_test_model(\"512 | 0.2 | 0.01 | 100\", input_size=12, hidden_size=512, dropout=0.2, lr=0.01, num_epochs=100)"
   ]
  },
  {
   "cell_type": "code",
   "execution_count": null,
   "id": "8bdda952",
   "metadata": {},
   "outputs": [],
   "source": [
    "test_results[\"512 | 0.2 | 0.001 | 100\"] =  train_and_test_model(\"512 | 0.2 | 0.001 | 100\", input_size=12, hidden_size=512, dropout=0.2, lr=0.001, num_epochs=100)           "
   ]
  },
  {
   "cell_type": "code",
   "execution_count": null,
   "id": "75a89e16",
   "metadata": {},
   "outputs": [],
   "source": [
    "test_results[\"1024 | 0.2 | 0.001 | 100\"] =  train_and_test_model(\"1024 | 0.2 | 0.001 | 100\", input_size=12, hidden_size=1024, dropout=0.2, lr=0.001, num_epochs=100)           "
   ]
  },
  {
   "cell_type": "code",
   "execution_count": null,
   "id": "ebc2be49",
   "metadata": {},
   "outputs": [],
   "source": [
    "for k, v in test_results.items():\n",
    "    print(f\"Test Loss for {k}: {v:.4f}\")"
   ]
  }
 ],
 "metadata": {
  "kernelspec": {
   "display_name": ".venv",
   "language": "python",
   "name": "python3"
  },
  "language_info": {
   "codemirror_mode": {
    "name": "ipython",
    "version": 3
   },
   "file_extension": ".py",
   "mimetype": "text/x-python",
   "name": "python",
   "nbconvert_exporter": "python",
   "pygments_lexer": "ipython3",
   "version": "3.12.3"
  }
 },
 "nbformat": 4,
 "nbformat_minor": 5
}
