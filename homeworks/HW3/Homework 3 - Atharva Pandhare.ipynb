{
 "cells": [
  {
   "cell_type": "markdown",
   "id": "9ccf9641",
   "metadata": {},
   "source": [
    "***Contents*** \n",
    "\n",
    "&emsp; **1: Imports and Hyperparameter Initialization**\n",
    "\n",
    "&emsp; **2: Datasets**\n",
    "\n",
    "&emsp; **3: Architectures**\n",
    "\n",
    "&emsp; &emsp; 3.1: LeNet Architecture\n",
    "\n",
    "&emsp; &emsp; 3.2: LeNet Architecture with Dropout\n",
    "\n",
    "&emsp; &emsp; 3.3: LeNet Architecture with Dropout and Batch Normalization\n",
    "\n",
    "&emsp; **4: Training and Testing**\n",
    "\n",
    "&emsp; &emsp; 4.1: Regular\n",
    "\n",
    "&emsp; &emsp; 4.2: With Dropout\n",
    "\n",
    "&emsp; &emsp; 4.3: With Dropout and Batch Norm\n",
    "\n",
    "&emsp; **5: Write Up**"
   ]
  },
  {
   "cell_type": "markdown",
   "id": "22cefc57",
   "metadata": {},
   "source": [
    "# Imports and Hyperparameter Initializaion"
   ]
  },
  {
   "cell_type": "code",
   "execution_count": 1,
   "id": "e4e2492a",
   "metadata": {},
   "outputs": [],
   "source": [
    "# Load in relevant libraries, and alias where appropriate\n",
    "import torch\n",
    "import torch.nn as nn\n",
    "import torchvision.datasets as datasets\n",
    "import torchvision.transforms as transforms\n",
    "import time\n",
    "\n",
    "# Define relevant variables for the ML task\n",
    "batch_size = 64\n",
    "learning_rate = 0.01\n",
    "num_epochs = 20\n",
    "\n",
    "# Device will determine whether to run the training on GPU or CPU.\n",
    "device = torch.device('cuda' if torch.cuda.is_available() else 'cpu')"
   ]
  },
  {
   "cell_type": "markdown",
   "id": "e24734aa",
   "metadata": {},
   "source": [
    "# Datasets"
   ]
  },
  {
   "cell_type": "code",
   "execution_count": 2,
   "id": "3c7d6b73",
   "metadata": {},
   "outputs": [],
   "source": [
    "# For training data\n",
    "cifar_trainset = datasets.CIFAR10(root='./data', train=True, download=True, transform=transforms.ToTensor())\n",
    "\n",
    "# For test data\n",
    "cifar_testset = datasets.CIFAR10(root='./data', train=False, download=True, transform=transforms.ToTensor())\n",
    "\n",
    "\n",
    "# DataLoader for training and test datasets\n",
    "trainloader = torch.utils.data.DataLoader(cifar_trainset, batch_size=batch_size, shuffle=True)\n",
    "testloader = torch.utils.data.DataLoader(cifar_testset, batch_size=batch_size, shuffle=False)\n"
   ]
  },
  {
   "cell_type": "markdown",
   "id": "3bf4194b",
   "metadata": {},
   "source": [
    "# Architectures"
   ]
  },
  {
   "cell_type": "markdown",
   "id": "0a95e483",
   "metadata": {},
   "source": [
    "## LeNet Architecture"
   ]
  },
  {
   "cell_type": "markdown",
   "id": "195405cb",
   "metadata": {},
   "source": [
    "|name|output size|\n",
    "|---|---|\n",
    "|Input|32x32x3|\n",
    "|conv(kernel = 5, output channels = 6)|28x28x6|\n",
    "|MaxPool(window = 2)|16x16x6|\n",
    "|conv(kernel = 5, output channels = 16)|12x12x16|\n",
    "|MaxPool(window = 2)|6x6x16|\n",
    "|linear|120|\n",
    "|linear|84|\n",
    "|linear|10|\n"
   ]
  },
  {
   "cell_type": "code",
   "execution_count": 3,
   "id": "109cc752",
   "metadata": {},
   "outputs": [],
   "source": [
    "class LeNet(nn.Module):\n",
    "    def __init__(self):\n",
    "        super(LeNet, self).__init__()\n",
    "        self.net = nn.Sequential(\n",
    "            nn.LazyConv2d(out_channels=6, kernel_size=5),\n",
    "            nn.ReLU(),\n",
    "            nn.MaxPool2d(kernel_size=2, stride=2),\n",
    "\n",
    "            nn.LazyConv2d(out_channels=16, kernel_size=5),\n",
    "            nn.ReLU(),\n",
    "            nn.MaxPool2d(kernel_size=2, stride=2),\n",
    "\n",
    "            nn.Flatten(),\n",
    "\n",
    "            nn.LazyLinear(out_features=120),\n",
    "            nn.ReLU(),\n",
    "\n",
    "            nn.LazyLinear(out_features=84),\n",
    "            nn.ReLU(),\n",
    "\n",
    "            nn.LazyLinear(out_features=10)\n",
    "        )\n",
    "        \n",
    "    def forward(self, x):\n",
    "        output = self.net(x)\n",
    "\n",
    "        return output"
   ]
  },
  {
   "cell_type": "markdown",
   "id": "f07cbaae",
   "metadata": {},
   "source": [
    "## LeNet Architecture with Dropout"
   ]
  },
  {
   "cell_type": "markdown",
   "id": "ca2d6aaa",
   "metadata": {},
   "source": [
    "|name|output size|\n",
    "|---|---|\n",
    "|Input|32x32x3|\n",
    "|conv(kernel = 5, output channels = 6)|28x28x6|\n",
    "|MaxPool(window = 2)|16x16x6|\n",
    "|conv(kernel = 5, output channels = 16)|12x12x16|\n",
    "|MaxPool(window = 2)|6x6x16|\n",
    "|linear|120|\n",
    "|Dropout|120|\n",
    "|linear|84|\n",
    "|linear|10|\n"
   ]
  },
  {
   "cell_type": "code",
   "execution_count": 4,
   "id": "4b48dfa4",
   "metadata": {},
   "outputs": [],
   "source": [
    "class LeNet_v1(nn.Module):\n",
    "    def __init__(self, conv_dropout_rate = 0.2, fc_dropout_rate=0.5):\n",
    "        super(LeNet_v1, self).__init__()\n",
    "        self.net = nn.Sequential(\n",
    "            nn.LazyConv2d(out_channels=6, kernel_size=5),\n",
    "            nn.ReLU(),\n",
    "            nn.MaxPool2d(kernel_size=2, stride=2),\n",
    "\n",
    "            nn.LazyConv2d(out_channels=16, kernel_size=5),\n",
    "            nn.ReLU(),\n",
    "            nn.MaxPool2d(kernel_size=2, stride=2),\n",
    "\n",
    "            nn.Flatten(),\n",
    "\n",
    "            nn.LazyLinear(out_features=120),\n",
    "            nn.ReLU(),\n",
    "\n",
    "            nn.Dropout(fc_dropout_rate),\n",
    "\n",
    "            nn.LazyLinear(out_features=84),\n",
    "            nn.ReLU(),\n",
    "            \n",
    "            nn.LazyLinear(out_features=10)\n",
    "        )\n",
    "\n",
    "    def forward(self, x):\n",
    "        output = self.net(x)\n",
    "        return output"
   ]
  },
  {
   "cell_type": "markdown",
   "id": "52f61b47",
   "metadata": {},
   "source": [
    "## LeNet Architecture with Dropout and Batch Normalization"
   ]
  },
  {
   "cell_type": "markdown",
   "id": "8f0841a6",
   "metadata": {},
   "source": [
    "|name|output size|\n",
    "|---|---|\n",
    "|Input|32x32x3|\n",
    "|conv(kernel = 5, output channels = 6)|28x28x6|\n",
    "|Batch Normalization|28x28x6|\n",
    "|MaxPool(window = 2)|16x16x6|\n",
    "|conv(kernel = 5, output channels = 16)|12x12x16|\n",
    "|MaxPool(window = 2)|6x6x16|\n",
    "|linear|120|\n",
    "|Dropout|120|\n",
    "|linear|84|\n",
    "|linear|10|\n"
   ]
  },
  {
   "cell_type": "code",
   "execution_count": 5,
   "id": "5cb6d621",
   "metadata": {},
   "outputs": [],
   "source": [
    "class LeNet_v2(nn.Module):\n",
    "    def __init__(self, fc_dropout_rate=0.5):\n",
    "        super(LeNet_v2, self).__init__()\n",
    "        self.net = nn.Sequential(\n",
    "            nn.LazyConv2d(out_channels=6, kernel_size=5),\n",
    "            nn.ReLU(),\n",
    "            nn.MaxPool2d(kernel_size=2, stride=2),\n",
    "\n",
    "            nn.LazyConv2d(out_channels=16, kernel_size=5),\n",
    "            nn.BatchNorm2d(16),\n",
    "            nn.ReLU(),\n",
    "            nn.MaxPool2d(kernel_size=2, stride=2),\n",
    "\n",
    "            nn.Flatten(),\n",
    "\n",
    "            nn.LazyLinear(out_features=120),\n",
    "            nn.ReLU(),\n",
    "\n",
    "            nn.Dropout(fc_dropout_rate),\n",
    "\n",
    "            nn.LazyLinear(out_features=84),\n",
    "            nn.ReLU(),\n",
    "\n",
    "            nn.LazyLinear(out_features=10)\n",
    "        )\n",
    "\n",
    "    def forward(self, x):\n",
    "        output = self.net(x)\n",
    "        return output"
   ]
  },
  {
   "cell_type": "markdown",
   "id": "d489527b",
   "metadata": {},
   "source": [
    "# Training and Testing"
   ]
  },
  {
   "cell_type": "markdown",
   "id": "d33ad95b",
   "metadata": {},
   "source": [
    "**Train and Test Functions**"
   ]
  },
  {
   "cell_type": "code",
   "execution_count": 6,
   "id": "d278f222",
   "metadata": {},
   "outputs": [],
   "source": [
    "def train(model, trainloader, num_epochs=num_epochs):\n",
    "    start_time = time.time()\n",
    "    criterion = nn.CrossEntropyLoss()\n",
    "    optimizer = torch.optim.SGD(model.parameters(), lr=learning_rate, momentum=0.9)\n",
    "    \n",
    "    # Lists to store losses for plotting\n",
    "    epoch_losses = []\n",
    "    \n",
    "    # Training loop\n",
    "    for epoch in range(num_epochs):\n",
    "        # Set model to training mode\n",
    "        model.train()\n",
    "        \n",
    "        running_loss = 0.0\n",
    "        batches_in_epoch = 0\n",
    "        \n",
    "        for i, (inputs, labels) in enumerate(trainloader):\n",
    "            # Move data to device (CPU/GPU)\n",
    "            inputs = inputs.to(device)\n",
    "            labels = labels.to(device)\n",
    "            \n",
    "            # Zero the parameter gradients\n",
    "            optimizer.zero_grad()\n",
    "            \n",
    "            # Forward pass\n",
    "            outputs = model(inputs)\n",
    "            loss = criterion(outputs, labels)\n",
    "            \n",
    "            # Backward pass and optimize\n",
    "            loss.backward()\n",
    "            optimizer.step()\n",
    "            \n",
    "            # Accumulate statistics\n",
    "            running_loss += loss.item()\n",
    "            batches_in_epoch += 1\n",
    "        \n",
    "        # Store average loss for this epoch\n",
    "        avg_epoch_loss = running_loss / batches_in_epoch\n",
    "        epoch_losses.append(avg_epoch_loss)\n",
    "        print(f'Epoch {epoch + 1}, Loss: {avg_epoch_loss:.3f}')\n",
    "    \n",
    "    # Plot the training loss\n",
    "    import matplotlib.pyplot as plt\n",
    "    plt.figure(figsize=(10, 6))\n",
    "    plt.plot(range(1, num_epochs + 1), epoch_losses, marker='o')\n",
    "    plt.title('Training Loss Over Epochs')\n",
    "    plt.xlabel('Epochs')\n",
    "    plt.ylabel('Loss')\n",
    "    plt.grid(True)\n",
    "    plt.show()\n",
    "    \n",
    "    end_time = time.time()\n",
    "    elapsed_time = end_time - start_time\n",
    "    print(f\"Training completed in {elapsed_time:.2f} seconds\")\n",
    "    \n",
    "    # return epoch_losses\n",
    "\n",
    "def test(model, testloader):\n",
    "    start_time = time.time()\n",
    "    # Testing the best model on test data\n",
    "    model.eval()\n",
    "    correct = 0\n",
    "    total = 0\n",
    "    with torch.no_grad():\n",
    "        for data in testloader:\n",
    "            images, labels = data\n",
    "            images, labels = images.to(device), labels.to(device)\n",
    "            outputs = model(images)\n",
    "            _, predicted = torch.max(outputs.data, 1)\n",
    "            total += labels.size(0)\n",
    "            correct += (predicted == labels).sum().item()\n",
    "    accuracy = 100 * correct / total\n",
    "    end_time = time.time()\n",
    "    elapsed_time = end_time - start_time\n",
    "    print(f'testing finished in {elapsed_time:.2f} seconds, Accuracy: {accuracy:.2f}%')"
   ]
  },
  {
   "cell_type": "markdown",
   "id": "8bf05816",
   "metadata": {},
   "source": [
    "## Regular"
   ]
  },
  {
   "cell_type": "code",
   "execution_count": 7,
   "id": "c6470d6b",
   "metadata": {},
   "outputs": [
    {
     "name": "stdout",
     "output_type": "stream",
     "text": [
      "Epoch 1, Loss: 2.056\n",
      "Epoch 2, Loss: 1.622\n",
      "Epoch 3, Loss: 1.465\n",
      "Epoch 4, Loss: 1.363\n",
      "Epoch 5, Loss: 1.283\n",
      "Epoch 6, Loss: 1.207\n",
      "Epoch 7, Loss: 1.152\n",
      "Epoch 8, Loss: 1.095\n",
      "Epoch 9, Loss: 1.046\n",
      "Epoch 10, Loss: 1.005\n",
      "Epoch 11, Loss: 0.967\n",
      "Epoch 12, Loss: 0.939\n",
      "Epoch 13, Loss: 0.904\n",
      "Epoch 14, Loss: 0.877\n",
      "Epoch 15, Loss: 0.851\n",
      "Epoch 16, Loss: 0.829\n",
      "Epoch 17, Loss: 0.812\n",
      "Epoch 18, Loss: 0.777\n",
      "Epoch 19, Loss: 0.757\n",
      "Epoch 20, Loss: 0.743\n"
     ]
    },
    {
     "data": {
      "image/png": "[encoded data removed]",
      "text/plain": [
       "<Figure size 1000x600 with 1 Axes>"
      ]
     },
     "metadata": {},
     "output_type": "display_data"
    },
    {
     "name": "stdout",
     "output_type": "stream",
     "text": [
      "Training completed in 73.68 seconds\n"
     ]
    }
   ],
   "source": [
    "model = LeNet().to(device)\n",
    "train(model, trainloader)"
   ]
  },
  {
   "cell_type": "code",
   "execution_count": 8,
   "id": "c9ffb83d",
   "metadata": {},
   "outputs": [
    {
     "name": "stdout",
     "output_type": "stream",
     "text": [
      "testing finished in 0.60 seconds, Accuracy: 58.43%\n"
     ]
    }
   ],
   "source": [
    "test(model, testloader)"
   ]
  },
  {
   "cell_type": "markdown",
   "id": "552bc6a0",
   "metadata": {},
   "source": [
    "## With Dropout"
   ]
  },
  {
   "cell_type": "code",
   "execution_count": 9,
   "id": "a71c037f",
   "metadata": {},
   "outputs": [
    {
     "name": "stdout",
     "output_type": "stream",
     "text": [
      "Epoch 1, Loss: 2.101\n",
      "Epoch 2, Loss: 1.714\n",
      "Epoch 3, Loss: 1.529\n",
      "Epoch 4, Loss: 1.446\n",
      "Epoch 5, Loss: 1.392\n",
      "Epoch 6, Loss: 1.347\n",
      "Epoch 7, Loss: 1.315\n",
      "Epoch 8, Loss: 1.288\n",
      "Epoch 9, Loss: 1.267\n",
      "Epoch 10, Loss: 1.242\n",
      "Epoch 11, Loss: 1.225\n",
      "Epoch 12, Loss: 1.204\n",
      "Epoch 13, Loss: 1.193\n",
      "Epoch 14, Loss: 1.174\n",
      "Epoch 15, Loss: 1.164\n",
      "Epoch 16, Loss: 1.157\n",
      "Epoch 17, Loss: 1.149\n",
      "Epoch 18, Loss: 1.132\n",
      "Epoch 19, Loss: 1.126\n",
      "Epoch 20, Loss: 1.110\n"
     ]
    },
    {
     "data": {
      "image/png": "[encoded data removed]",
      "text/plain": [
       "<Figure size 1000x600 with 1 Axes>"
      ]
     },
     "metadata": {},
     "output_type": "display_data"
    },
    {
     "name": "stdout",
     "output_type": "stream",
     "text": [
      "Training completed in 73.45 seconds\n"
     ]
    }
   ],
   "source": [
    "model1 = LeNet_v1().to(device)\n",
    "train(model1, trainloader)"
   ]
  },
  {
   "cell_type": "code",
   "execution_count": 10,
   "id": "96750a0d",
   "metadata": {},
   "outputs": [
    {
     "name": "stdout",
     "output_type": "stream",
     "text": [
      "testing finished in 0.57 seconds, Accuracy: 60.91%\n"
     ]
    }
   ],
   "source": [
    "test(model1, testloader)"
   ]
  },
  {
   "cell_type": "markdown",
   "id": "9a440392",
   "metadata": {},
   "source": [
    "## With Dropout and Batch Norm"
   ]
  },
  {
   "cell_type": "code",
   "execution_count": 11,
   "id": "d83d1e60",
   "metadata": {},
   "outputs": [
    {
     "name": "stdout",
     "output_type": "stream",
     "text": [
      "Epoch 1, Loss: 1.775\n",
      "Epoch 2, Loss: 1.545\n",
      "Epoch 3, Loss: 1.437\n",
      "Epoch 4, Loss: 1.369\n",
      "Epoch 5, Loss: 1.318\n",
      "Epoch 6, Loss: 1.282\n",
      "Epoch 7, Loss: 1.254\n",
      "Epoch 8, Loss: 1.234\n",
      "Epoch 9, Loss: 1.212\n",
      "Epoch 10, Loss: 1.187\n",
      "Epoch 11, Loss: 1.173\n",
      "Epoch 12, Loss: 1.160\n",
      "Epoch 13, Loss: 1.146\n",
      "Epoch 14, Loss: 1.139\n",
      "Epoch 15, Loss: 1.124\n",
      "Epoch 16, Loss: 1.106\n",
      "Epoch 17, Loss: 1.106\n",
      "Epoch 18, Loss: 1.095\n",
      "Epoch 19, Loss: 1.087\n",
      "Epoch 20, Loss: 1.082\n"
     ]
    },
    {
     "data": {
      "image/png": "[encoded data removed]",
      "text/plain": [
       "<Figure size 1000x600 with 1 Axes>"
      ]
     },
     "metadata": {},
     "output_type": "display_data"
    },
    {
     "name": "stdout",
     "output_type": "stream",
     "text": [
      "Training completed in 74.90 seconds\n"
     ]
    }
   ],
   "source": [
    "model2 = LeNet_v2().to(device)\n",
    "train(model2, trainloader)"
   ]
  },
  {
   "cell_type": "code",
   "execution_count": 12,
   "id": "7a8bf98b",
   "metadata": {},
   "outputs": [
    {
     "name": "stdout",
     "output_type": "stream",
     "text": [
      "testing finished in 0.59 seconds, Accuracy: 61.33%\n"
     ]
    }
   ],
   "source": [
    "test(model2, testloader)"
   ]
  },
  {
   "cell_type": "markdown",
   "id": "2a3b7226",
   "metadata": {},
   "source": [
    "# Write Up"
   ]
  },
  {
   "cell_type": "markdown",
   "id": "99a32fc4",
   "metadata": {},
   "source": [
    "<!-- ## Design Descisions\n",
    "### Hyperparameters\n",
    "#### Batch Size\n",
    "I used a batch size of 64, as it gave me better performance than 128, 256. The smaller batch size allowed for more frequent weight updates, which helped the model navigate the loss landscape more effectively. While larger batches could potentially use GPU resources more efficiently, the 64 batch size struck the right balance between computational efficiency and learning dynamics for this CIFAR-10 classification task, with a total train time of ~67 seconds per model\n",
    "#### Epochs\n",
    "I chose number of epochs as 20 because 10 was not converging well enough at first. I then made some changes but I never tried back to 10. Maybe it works but this is doing a good job and I dont want to touch it.\n",
    "#### Learning Rate\n",
    "I tried 0.0001 but that converged too slow, and more than 20 epochs was just not economical for the sake of a homework. so I tried 0.01 which did a good job.\n",
    "### Layer Choices\n",
    "I used LazyLinear as it does the input calculations for me. to my understanding I dont see any drawbacks of doing this at for the sake of a simple arch like LeNet-5\n",
    "### Activations\n",
    "I used ReLU for everything because ReLU Rocks and I see no particular drawbacks here yet\n",
    "### Optimization Functions\n",
    "I used SGD with Momentum with momentum at 0.9. this is useful as it avoids any problems wiht local minimas\n",
    "\n",
    "## Modification Steps\n",
    "### Dropout Layer\n",
    "Adding dropout to the LeNet architecture shows significant improvement in preventing overfitting:\n",
    "- Acts as a regularization technique by randomly \"dropping\" neurons during training\n",
    "- Forces the network to learn more robust features that don't rely on specific neurons\n",
    "- Creates an implicit ensemble effect, as each training iteration uses a different subset of neurons\n",
    "\n",
    "### Dropout + Batch Normalization layers\n",
    "Combining dropout with batch normalization further enhances model performance:\n",
    "- Batch normalization stabilizes the learning process by normalizing layer inputs\n",
    "- Reduces internal covariate shift, allowing for higher learning rates\n",
    "- Works synergistically with dropout to improve both training speed and generalization\n",
    "- Helps mitigate vanishing/exploding gradient problems in deeper networks\n",
    "\n",
    "## The Final Word\n",
    "These did not improve the accuracy too much (60 &rarr; 65), but a win is a win -->\n",
    "\n",
    "## Design Decisions\n",
    "### Hyperparameter Selection\n",
    "#### Batch Size\n",
    "I selected a batch size of 64 after experimenting with larger sizes (128, 256). The smaller batch size provided better performance by allowing more frequent weight updates, helping the model navigate the loss landscape more effectively. While larger batches could theoretically use GPU resources more efficiently, 64 struck the right balance between computational efficiency and learning effectiveness for this CIFAR-10 task. Total training time was approximately 67 seconds per model.\n",
    "\n",
    "#### Epochs\n",
    "I settled on 20 epochs for training after finding that 10 epochs wasn't enough for proper convergence in initial tests. After making architectural improvements, I stuck with 20 epochs since the model was performing well, though fewer might have been sufficient.\n",
    "\n",
    "#### Learning Rate\n",
    "Initially, I tried 0.0001, but this converged too slowly and would have required many more epochs to reach good performance. Increasing to 0.01 provided much better convergence within my 20-epoch constraint.\n",
    "\n",
    "### Architecture Decisions\n",
    "\n",
    "#### Layer Implementation\n",
    "I utilized LazyLinear layers since they automatically handle input size calculations. For a straightforward architecture like LeNet-5, this simplified implementation without any noticeable drawbacks.\n",
    "\n",
    "#### Activation Functions\n",
    "ReLU was implemented throughout the network due to its computational efficiency and effectiveness in preventing vanishing gradient problems common in deeper networks.\n",
    "\n",
    "#### Optimization Approach\n",
    "I chose SGD with a momentum value of 0.9, which helps overcome local minima and generally provides faster convergence than standard SGD by accumulating movement in consistent directions.\n",
    "\n",
    "## Model Improvements\n",
    "The improvements were tested with the same dataset loaders to have a proper point of comparison.\n",
    "\n",
    "### Dropout Implementation\n",
    "Adding dropout layers significantly helped prevent overfitting by:\n",
    "- Randomly deactivating neurons during training, forcing the network to be less dependent on specific features\n",
    "- Creating an implicit ensemble effect, as each training batch effectively uses a slightly different network\n",
    "- Improving generalization to unseen data\n",
    "\n",
    "### Batch Normalization Addition\n",
    "Combining dropout with batch normalization further enhanced performance by:\n",
    "- Normalizing inputs to each layer, which stabilizes and accelerates the training process\n",
    "- Reducing internal covariate shift, allowing higher learning rates without divergence\n",
    "- Working well alongside dropout to create a more robust training procedure\n",
    "\n",
    "## Results\n",
    "These modifications improved accuracy from around ~58% to ~62%. While this may seem very little, a win is a win.\n"
   ]
  }
 ],
 "metadata": {
  "kernelspec": {
   "display_name": ".venv",
   "language": "python",
   "name": "python3"
  },
  "language_info": {
   "codemirror_mode": {
    "name": "ipython",
    "version": 3
   },
   "file_extension": ".py",
   "mimetype": "text/x-python",
   "name": "python",
   "nbconvert_exporter": "python",
   "pygments_lexer": "ipython3",
   "version": "3.12.3"
  }
 },
 "nbformat": 4,
 "nbformat_minor": 5
}
